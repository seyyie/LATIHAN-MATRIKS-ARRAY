{
 "cells": [
  {
   "cell_type": "code",
   "execution_count": 1,
   "metadata": {},
   "outputs": [
    {
     "name": "stdout",
     "output_type": "stream",
     "text": [
      "[[ 0 32]\n",
      " [ 2  0]\n",
      " [42  1]]\n"
     ]
    }
   ],
   "source": [
    "# perkalian matriks array\n",
    "\n",
    "import numpy as np\n",
    "\n",
    "A = np.array([[0,8],[1,2],[7,1]])\n",
    "B = np.array([[4,4],[2,0],[6,1]])\n",
    "\n",
    "perkalian = A * B\n",
    "print(perkalian)"
   ]
  },
  {
   "cell_type": "code",
   "execution_count": 5,
   "metadata": {},
   "outputs": [
    {
     "name": "stdout",
     "output_type": "stream",
     "text": [
      "[[-4  4]\n",
      " [-1  2]\n",
      " [ 1  0]]\n"
     ]
    }
   ],
   "source": [
    "# pengurangan matriks array\n",
    "\n",
    "import numpy as np\n",
    "\n",
    "A = np.array([[0,8],[1,2],[7,1]])\n",
    "B = np.array([[4,4],[2,0],[6,1]])\n",
    "\n",
    "pengurangan = A - B\n",
    "print(pengurangan)"
   ]
  },
  {
   "cell_type": "code",
   "execution_count": 4,
   "metadata": {},
   "outputs": [
    {
     "name": "stdout",
     "output_type": "stream",
     "text": [
      "[[0 1 7]\n",
      " [8 2 1]]\n"
     ]
    }
   ],
   "source": [
    "# transpose matriks array\n",
    "\n",
    "import numpy as np \n",
    "A = np.array([[0,8],[1,2],[7,1]])\n",
    "\n",
    "transpose_A = np.transpose(A)\n",
    "print(transpose_A)"
   ]
  },
  {
   "cell_type": "code",
   "execution_count": 3,
   "metadata": {},
   "outputs": [
    {
     "name": "stdout",
     "output_type": "stream",
     "text": [
      "\n",
      "invers matriks A:\n",
      "invers dari matriks A: [[-0.07692308  0.15384615]\n",
      " [ 0.53846154 -0.07692308]]\n"
     ]
    }
   ],
   "source": [
    "# invers matriks array\n",
    "\n",
    "import numpy as np\n",
    "\n",
    "A = np.array([[1,2],[7,1]])\n",
    "\n",
    "invers_A = np.linalg.inv(A)\n",
    "print(\"\\ninvers matriks A:\")\n",
    "print(\"invers dari matriks A:\", invers_A)"
   ]
  },
  {
   "cell_type": "code",
   "execution_count": 2,
   "metadata": {},
   "outputs": [
    {
     "name": "stdout",
     "output_type": "stream",
     "text": [
      "determinan dari matriks A: -13.0\n"
     ]
    }
   ],
   "source": [
    "# determinan matriks array\n",
    "\n",
    "import numpy as np\n",
    "A = np.array([[1,2],[7,1]])\n",
    "\n",
    "determinant_A = np.linalg.det(A)\n",
    "print(\"determinan dari matriks A:\", determinant_A)"
   ]
  }
 ],
 "metadata": {
  "kernelspec": {
   "display_name": "Python 3",
   "language": "python",
   "name": "python3"
  },
  "language_info": {
   "codemirror_mode": {
    "name": "ipython",
    "version": 3
   },
   "file_extension": ".py",
   "mimetype": "text/x-python",
   "name": "python",
   "nbconvert_exporter": "python",
   "pygments_lexer": "ipython3",
   "version": "3.12.2"
  }
 },
 "nbformat": 4,
 "nbformat_minor": 2
}
